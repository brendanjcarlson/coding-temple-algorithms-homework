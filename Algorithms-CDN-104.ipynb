{
 "cells": [
  {
   "cell_type": "markdown",
   "metadata": {},
   "source": [
    "# Cl"
   ]
  },
  {
   "cell_type": "markdown",
   "metadata": {},
   "source": [
    "## Tasks Today:\n",
    " \n",
    "1) <b>In-Place Algorithms</b> <br>\n",
    " &nbsp;&nbsp;&nbsp;&nbsp; a) Syntax <br>\n",
    " &nbsp;&nbsp;&nbsp;&nbsp; a) Out of Place Algorithm <br>\n",
    " &nbsp;&nbsp;&nbsp;&nbsp; b) In-Class Exercise #1 <br>\n",
    "2) <b>Two Pointers</b> <br>\n",
    "3) <b>Linked Lists</b> <br>\n",
    "4) <b>Merge Sort</b> <br>\n",
    " &nbsp;&nbsp;&nbsp;&nbsp; a) Video on Algorithms <br>\n",
    " &nbsp;&nbsp;&nbsp;&nbsp; b) How it Works <br>\n",
    "5) <b>Exercises</b> <br>\n",
    " &nbsp;&nbsp;&nbsp;&nbsp; a) Exercise #1 - Reverse a List in Place Using an In-Place Algorithm <br>\n",
    " &nbsp;&nbsp;&nbsp;&nbsp; b) Exercise #2 - Find Distinct Words <br>\n",
    " &nbsp;&nbsp;&nbsp;&nbsp; c) Exercise #3 - Write a program to implement a Linear Search Algorithm. <br>"
   ]
  },
  {
   "cell_type": "markdown",
   "metadata": {},
   "source": [
    "## In-Place Algorithms"
   ]
  },
  {
   "cell_type": "markdown",
   "metadata": {},
   "source": [
    "#### Syntax"
   ]
  },
  {
   "cell_type": "code",
   "execution_count": 80,
   "metadata": {},
   "outputs": [
    {
     "name": "stdout",
     "output_type": "stream",
     "text": [
      "0x10d77b100\n",
      "0x10d77b100\n",
      "[2, 4, 6, 8, 10]\n"
     ]
    }
   ],
   "source": [
    "a_list = [1,2,3,4,5]\n",
    "# in place -- changes value of parameter passed in\n",
    "def inplace(a_list):\n",
    "    for i in range(len(a_list)):\n",
    "        a_list[i] *= 2\n",
    "    print(hex(id(a_list)))\n",
    "    return a_list\n",
    "\n",
    "print(hex(id(a_list)))\n",
    "print(inplace(a_list))\n",
    "\n"
   ]
  },
  {
   "cell_type": "markdown",
   "metadata": {},
   "source": [
    "#### Out of Place Algorithm"
   ]
  },
  {
   "cell_type": "code",
   "execution_count": 81,
   "metadata": {},
   "outputs": [
    {
     "name": "stdout",
     "output_type": "stream",
     "text": [
      "[2, 4, 6, 8, 10]\n",
      "[1, 2, 3, 4, 5]\n"
     ]
    }
   ],
   "source": [
    "\n",
    "a_list = [1,2,3,4,5]\n",
    "# OUT OF PLACE\n",
    "def doubles(a_list):\n",
    "    return list(map(lambda a: a * 2, a_list))\n",
    "\n",
    "print(doubles(a_list))\n",
    "print(a_list)\n"
   ]
  },
  {
   "cell_type": "markdown",
   "metadata": {},
   "source": [
    "#### In-Class Exercise #1 <br>\n",
    "<p>Write a function that takes in four arguments (list, index1, index2, index3), and swaps those three positions in the list passed in.</p>"
   ]
  },
  {
   "cell_type": "code",
   "execution_count": 114,
   "metadata": {},
   "outputs": [
    {
     "name": "stdout",
     "output_type": "stream",
     "text": [
      "in place\n",
      "before swap [10, 4, 3, 8, 4, 2, 6] 0x10d2cd5c0\n",
      "after swap  [10, 8, 4, 3, 4, 2, 6] 0x10d2cd5c0\n",
      "\n",
      "out of place\n",
      "before swap [10, 4, 3, 8, 4, 2, 6] 0x10d7881c0\n",
      "after swap  [10, 4, 3, 8, 2, 6, 4] 0x10d2cd5c0\n"
     ]
    }
   ],
   "source": [
    "#in place\n",
    "l_1 = [10, 4, 3, 8, 4, 2, 6]\n",
    "def swap_ip(a_list, ind1, ind2, ind3):\n",
    "    a_list[ind3], a_list[ind2], a_list[ind1] = a_list[ind2], a_list[ind1], a_list[ind3]\n",
    "    return hex(id(a_list))\n",
    "\n",
    "print('in place')\n",
    "print('before swap', l_1, hex(id(l_1)))\n",
    "print('after swap ', l_1, swap_ip(l_1, 1, 2, 3))\n",
    "\n",
    "print()\n",
    "\n",
    "#out of place\n",
    "l_1 = [10, 4, 3, 8, 4, 2, 6]\n",
    "def swap_op(a_list, ind1, ind2, ind3):\n",
    "    a_list = a_list[:]\n",
    "    a_list[ind1], a_list[ind2], a_list[ind3] = a_list[ind2], a_list[ind3], a_list[ind1]\n",
    "    return f\"{a_list} {hex(id(a_list))}\"\n",
    "\n",
    "print('out of place')\n",
    "print('before swap', l_1, hex(id(l_1)))\n",
    "print('after swap ', swap_op(l_1, 4, 5, 6))\n"
   ]
  },
  {
   "cell_type": "markdown",
   "metadata": {},
   "source": [
    "## Two Pointers"
   ]
  },
  {
   "cell_type": "markdown",
   "metadata": {},
   "source": [
    "#### Syntax"
   ]
  },
  {
   "cell_type": "code",
   "execution_count": 139,
   "metadata": {},
   "outputs": [
    {
     "name": "stdout",
     "output_type": "stream",
     "text": [
      "[6, 5, 4, 3, 2, 1]\n"
     ]
    }
   ],
   "source": [
    "#reverse a list\n",
    "#[1, 2, 3, 4, 5, 6]\n",
    "#iter1: [6, 2, 3, 4, 5, 1]\n",
    "#iter2: [6, 5, 3, 4, 2, 1]\n",
    "#iter3: [6, 5, 4, 3, 2, 1]\n",
    "\n",
    "def two_pointer_reverse(ls):\n",
    "    ls = ls[:]\n",
    "    i, j = 0, len(ls) - 1\n",
    "    while i < j:\n",
    "        ls[i], ls[j] = ls[j], ls[i]\n",
    "        i, j = i + 1, j - 1\n",
    "    return ls\n",
    "\n",
    "print(two_pointer_reverse([1,2,3,4,5,6]))"
   ]
  },
  {
   "cell_type": "markdown",
   "metadata": {},
   "source": [
    "### Two Sum\n",
    "\n",
    "Given an array of integers nums and an integer target, return indices of the two numbers such that they add up to target.\n",
    "\n",
    "You may assume that each input would have exactly one solution, and you may not use the same element twice.\n",
    "\n",
    "You can return the answer in any order.\n",
    "\n",
    "Example 1:\n",
    "Input: nums = [2,7,11,15], target = 9\n",
    "Output: [0,1]\n",
    "Explanation: Because nums[0] + nums[1] == 9, we return [0, 1].\n",
    "\n",
    "Example 2:\n",
    "Input: nums = [3,2,4], target = 6\n",
    "Output: [1,2]\n",
    "\n",
    "Example 3:\n",
    "Input: nums = [3,3], target = 6\n",
    "Output: [0,1]"
   ]
  },
  {
   "cell_type": "code",
   "execution_count": 240,
   "metadata": {},
   "outputs": [
    {
     "name": "stdout",
     "output_type": "stream",
     "text": [
      "line: expected [0, 1]: got [0, 1]\n",
      "quad: expected [0, 1]: got [0, 1]\n",
      "\n",
      "line: expected [1, 2]: got [1, 2]\n",
      "quad: expected [1, 2]: got [1, 2]\n",
      "\n",
      "line: expected [0, 1]: got [0, 1]\n",
      "quad: expected [0, 1]: got [0, 1]\n",
      "\n",
      "line: expected []: got []\n",
      "quad: expected []: got []\n"
     ]
    }
   ],
   "source": [
    "def two_sum_linear(nums, tar):\n",
    "    vals = {}\n",
    "    for i, val in enumerate(nums):\n",
    "        if tar - val in vals:\n",
    "            return [vals[tar - val], i]\n",
    "        else:\n",
    "            vals[val] = i\n",
    "    return []\n",
    "    # O(2n)\n",
    "\n",
    "def two_sum_quadratic(nums, tar):\n",
    "    for i in range(len(nums)):\n",
    "        for j in range(i+1, len(nums)):\n",
    "            if nums[i] + nums[j] == tar:\n",
    "                return [i, j]\n",
    "    return []\n",
    "    # O(n^2)\n",
    "\n",
    "\n",
    "\n",
    "nums1 = [2,7,11,15]\n",
    "target1 = 9\n",
    "print('line: expected [0, 1]: got', two_sum_linear(nums1, target1))\n",
    "print('quad: expected [0, 1]: got', two_sum_quadratic(nums1, target1))\n",
    "nums2 = [3,2,4]\n",
    "target2 = 6\n",
    "print('\\nline: expected [1, 2]: got', two_sum_linear(nums2, target2))\n",
    "print('quad: expected [1, 2]: got', two_sum_quadratic(nums2, target2))\n",
    "nums3 = [3,3]\n",
    "target3 = 6\n",
    "print('\\nline: expected [0, 1]: got', two_sum_linear(nums3, target3))\n",
    "print('quad: expected [0, 1]: got', two_sum_quadratic(nums3, target3))\n",
    "nums4 = [3,4]\n",
    "target4 = 6\n",
    "print('\\nline: expected []: got', two_sum_linear(nums4, target4))\n",
    "print('quad: expected []: got', two_sum_quadratic(nums4, target4))\n",
    "\n"
   ]
  },
  {
   "cell_type": "markdown",
   "metadata": {},
   "source": [
    "#### Video of Algorithms <br>\n",
    "<p>Watch the video about algorithms.</p>\n",
    "\n",
    "https://www.youtube.com/watch?v=Q9HjeFD62Uk\n",
    "\n",
    "https://www.youtube.com/watch?v=kPRA0W1kECg\n",
    "\n",
    "https://www.youtube.com/watch?v=ZZuD6iUe3Pc"
   ]
  },
  {
   "cell_type": "markdown",
   "metadata": {},
   "source": [
    "# Sorting Algorithms"
   ]
  },
  {
   "cell_type": "markdown",
   "metadata": {},
   "source": [
    "#### Bubble Sort\n",
    "\n",
    "Worst Case: O(n^2) Time - O(1) Space"
   ]
  },
  {
   "cell_type": "code",
   "execution_count": 223,
   "metadata": {},
   "outputs": [
    {
     "name": "stdout",
     "output_type": "stream",
     "text": [
      "[35, 91, 30, 1, 54, 59, 69, 23, 52, 60, 19, 40, 53, 94, 57, 29, 63, 16, 32, 56, 84, 50, 72, 44, 92, 14, 39, 77, 67, 24, 49, 66, 41, 31, 55, 76, 8, 80, 43, 36, 48, 83, 46, 47, 95, 5, 0, 65, 89, 15, 13, 45, 82, 28, 79, 25, 37, 74, 33, 62, 99, 11, 75, 86, 85, 90, 64, 6, 58, 3, 78, 42, 7, 20, 93, 98, 26, 4, 17, 71, 96, 10, 88, 97, 34, 38, 70, 2, 51, 9, 73, 12, 18, 27, 61, 21, 68, 22, 81, 87]\n",
      "\n",
      "[0, 1, 2, 3, 4, 5, 6, 7, 8, 9, 10, 11, 12, 13, 14, 15, 16, 17, 18, 19, 20, 21, 22, 23, 24, 25, 26, 27, 28, 29, 30, 31, 32, 33, 34, 35, 36, 37, 38, 39, 40, 41, 42, 43, 44, 45, 46, 47, 48, 49, 50, 51, 52, 53, 54, 55, 56, 57, 58, 59, 60, 61, 62, 63, 64, 65, 66, 67, 68, 69, 70, 71, 72, 73, 74, 75, 76, 77, 78, 79, 80, 81, 82, 83, 84, 85, 86, 87, 88, 89, 90, 91, 92, 93, 94, 95, 96, 97, 98, 99]\n"
     ]
    }
   ],
   "source": [
    "\n",
    "def bubble_sort(arr):\n",
    "    arr = arr[:]\n",
    "    end = len(arr) - 1\n",
    "    is_sorted = False\n",
    "\n",
    "    while not is_sorted:\n",
    "        is_sorted = True\n",
    "        for i in range(end):\n",
    "            j = i + 1\n",
    "            if arr[i] > arr[j]:\n",
    "                arr[i], arr[j] = arr[j], arr[i]\n",
    "                is_sorted = False\n",
    "\n",
    "        end -= 1\n",
    "    return arr\n",
    "\n",
    "from random import shuffle\n",
    "random = list(range(0, 100))\n",
    "shuffle(random)\n",
    "print(random)\n",
    "print()\n",
    "print(bubble_sort(random))\n"
   ]
  },
  {
   "cell_type": "markdown",
   "metadata": {},
   "source": [
    "##### Insertion Sort\n",
    "\n",
    "Worst Case: O(n^2) time - O(1)space"
   ]
  },
  {
   "cell_type": "code",
   "execution_count": 225,
   "metadata": {},
   "outputs": [
    {
     "name": "stdout",
     "output_type": "stream",
     "text": [
      "[31, 41, 72, 10, 37, 29, 30, 87, 5, 99, 63, 52, 48, 6, 73, 0, 57, 14, 83, 74, 18, 34, 4, 91, 56, 84, 27, 21, 60, 39, 49, 28, 38, 94, 42, 33, 11, 1, 53, 69, 75, 86, 16, 44, 55, 54, 45, 13, 51, 90, 97, 88, 76, 3, 22, 67, 40, 93, 25, 65, 36, 20, 71, 81, 64, 68, 7, 43, 32, 80, 19, 17, 89, 35, 82, 8, 78, 47, 79, 66, 98, 12, 23, 26, 59, 77, 58, 95, 62, 46, 50, 92, 70, 9, 15, 61, 2, 24, 96, 85]\n",
      "\n",
      "[0, 1, 2, 3, 4, 5, 6, 7, 8, 9, 10, 11, 12, 13, 14, 15, 16, 17, 18, 19, 20, 21, 22, 23, 24, 25, 26, 27, 28, 29, 30, 31, 32, 33, 34, 35, 36, 37, 38, 39, 40, 41, 42, 43, 44, 45, 46, 47, 48, 49, 50, 51, 52, 53, 54, 55, 56, 57, 58, 59, 60, 61, 62, 63, 64, 65, 66, 67, 68, 69, 70, 71, 72, 73, 74, 75, 76, 77, 78, 79, 80, 81, 82, 83, 84, 85, 86, 87, 88, 89, 90, 91, 92, 93, 94, 95, 96, 97, 98, 99]\n"
     ]
    }
   ],
   "source": [
    "def insertion_sort(arr):\n",
    "    arr = arr[:]\n",
    "    for i in range(1, len(arr)):\n",
    "        key = arr[i]\n",
    "        j = i - 1\n",
    "        while j >=0 and key < arr[j]:\n",
    "                arr[j+1] = arr[j]\n",
    "                j -= 1\n",
    "        arr[j+1] = key\n",
    "    return arr\n",
    "\n",
    "from random import shuffle\n",
    "random = list(range(0, 100))\n",
    "shuffle(random)\n",
    "print(random)\n",
    "print()\n",
    "print(insertion_sort(random))"
   ]
  },
  {
   "cell_type": "markdown",
   "metadata": {},
   "source": [
    "## Merge Sort"
   ]
  },
  {
   "cell_type": "markdown",
   "metadata": {},
   "source": [
    "#### How it Works"
   ]
  },
  {
   "cell_type": "code",
   "execution_count": null,
   "metadata": {},
   "outputs": [],
   "source": []
  },
  {
   "cell_type": "markdown",
   "metadata": {},
   "source": [
    "# Binary Search\n",
    "\n",
    "The Binary Search algorithm works by finding the number in the middle of a given array and comparing it to the target. Given that the array is sorted\n",
    "\n",
    "* The worst case run time for this algorithm is `O(log(n))`"
   ]
  },
  {
   "cell_type": "code",
   "execution_count": null,
   "metadata": {},
   "outputs": [],
   "source": []
  },
  {
   "cell_type": "markdown",
   "metadata": {},
   "source": [
    "# Exercises"
   ]
  },
  {
   "cell_type": "markdown",
   "metadata": {},
   "source": [
    "### Exercise #1 <br>\n",
    "<p>Reverse the list below in-place using an in-place algorithm.<br>For extra credit: Reverse the strings at the same time.</p>"
   ]
  },
  {
   "cell_type": "code",
   "execution_count": 250,
   "metadata": {},
   "outputs": [
    {
     "name": "stdout",
     "output_type": "stream",
     "text": [
      "0x10d78be00\n",
      "['this', 'is', 'a', 'sentence', '.']\n",
      "0x10d78be00\n",
      "['.', 'ecnetnes', 'a', 'si', 'siht']\n"
     ]
    }
   ],
   "source": [
    "words = ['this' , 'is', 'a', 'sentence', '.']\n",
    "def reverse_all(arr):\n",
    "    print(hex(id(arr)))\n",
    "    i, j = 0, len(arr) - 1\n",
    "    while i < j:\n",
    "        arr[i], arr[j] = arr[j][::-1], arr[i][::-1]\n",
    "        i, j = i + 1, j - 1\n",
    "\n",
    "print(hex(id(words)))\n",
    "print(words)\n",
    "reverse_all(words)\n",
    "print(words)"
   ]
  },
  {
   "cell_type": "markdown",
   "metadata": {},
   "source": [
    "### Exercise #2 <br>\n",
    "<p>Create a function that counts how many distinct words are in the string below, then outputs a dictionary with the words as the key and the value as the amount of times that word appears in the string.<br>Should output:<br>{'a': 5,<br>\n",
    " 'abstract': 1,<br>\n",
    " 'an': 3,<br>\n",
    " 'array': 2, ... etc...</p>"
   ]
  },
  {
   "cell_type": "code",
   "execution_count": 289,
   "metadata": {},
   "outputs": [
    {
     "name": "stdout",
     "output_type": "stream",
     "text": [
      "{'In': 1, 'computing': 1, 'a': 4, \"'hash\": 1, \"table's\": 1, 'hash': 3, \"map'\": 1, 'is': 1, 'data': 2, \"stru''cture\": 1, 'which': 2, 'implements': 1, 'an': 3, 'associative': 1, 'array': 2, 'abstract': 1, 'type': 1, 'structure': 1, 'that': 1, 'can': 2, 'map': 1, 'keys': 1, 'to': 2, 'values': 1, 'A': 1, 'table': 1, 'uses': 1, 'function': 1, 'compute': 1, 'index': 1, 'into': 1, 'of': 1, 'buckets': 1, 'or': 1, 'slots': 1, 'from': 1, 'the': 1, 'desired': 1, 'value': 1, 'be': 1, 'found': 1}\n"
     ]
    }
   ],
   "source": [
    "a_text = \"In computing, a  '' 'hash table's hash ' map' is a data structure which implements an associative array abstract data type, a structure that can map keys to values. A hash table uses a hash function to compute an index into an array of buckets or slots from which the desired value can be found\"\n",
    "import re\n",
    "def word_count(string):\n",
    "    result = {}\n",
    "    for word in re.findall(r\"\\w*'*[\\w]+'?\", string):\n",
    "        result[word] = result.get(word, 0) + 1\n",
    "    return result\n",
    "\n",
    "print(word_count(a_text))\n"
   ]
  },
  {
   "cell_type": "markdown",
   "metadata": {},
   "source": [
    "## Exercise #3\n",
    "\n",
    "Write a program to implement a Linear Search Algorithm. Also in a comment, write the Time Complexity of the following algorithm.\n",
    "\n",
    "#### Hint: Linear Searching will require searching a list for a given number. "
   ]
  },
  {
   "cell_type": "code",
   "execution_count": 251,
   "metadata": {},
   "outputs": [],
   "source": [
    "def linear_search(arr, target):\n",
    "    for item in arr:\n",
    "        if target == item:\n",
    "            return item"
   ]
  }
 ],
 "metadata": {
  "kernelspec": {
   "display_name": "Python 3.10.8 64-bit",
   "language": "python",
   "name": "python3"
  },
  "language_info": {
   "codemirror_mode": {
    "name": "ipython",
    "version": 3
   },
   "file_extension": ".py",
   "mimetype": "text/x-python",
   "name": "python",
   "nbconvert_exporter": "python",
   "pygments_lexer": "ipython3",
   "version": "3.10.8"
  },
  "vscode": {
   "interpreter": {
    "hash": "aee8b7b246df8f9039afb4144a1f6fd8d2ca17a180786b69acc140d282b71a49"
   }
  }
 },
 "nbformat": 4,
 "nbformat_minor": 2
}
